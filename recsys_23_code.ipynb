{
  "nbformat": 4,
  "nbformat_minor": 0,
  "metadata": {
    "colab": {
      "provenance": [],
      "machine_shape": "hm",
      "gpuType": "V100"
    },
    "kernelspec": {
      "name": "python3",
      "display_name": "Python 3"
    },
    "language_info": {
      "name": "python"
    },
    "accelerator": "GPU"
  },
  "cells": [
    {
      "cell_type": "code",
      "execution_count": 1,
      "metadata": {
        "colab": {
          "base_uri": "https://localhost:8080/"
        },
        "id": "mkivlHfdtjiw",
        "outputId": "a4aa5ded-fbc6-4fe9-c2ac-da0949af8071"
      },
      "outputs": [
        {
          "output_type": "stream",
          "name": "stdout",
          "text": [
            "Collecting catboost\n",
            "  Downloading catboost-1.2-cp310-cp310-manylinux2014_x86_64.whl (98.6 MB)\n",
            "\u001b[2K     \u001b[90m━━━━━━━━━━━━━━━━━━━━━━━━━━━━━━━━━━━━━━━━\u001b[0m \u001b[32m98.6/98.6 MB\u001b[0m \u001b[31m9.7 MB/s\u001b[0m eta \u001b[36m0:00:00\u001b[0m\n",
            "\u001b[?25hRequirement already satisfied: graphviz in /usr/local/lib/python3.10/dist-packages (from catboost) (0.20.1)\n",
            "Requirement already satisfied: matplotlib in /usr/local/lib/python3.10/dist-packages (from catboost) (3.7.1)\n",
            "Requirement already satisfied: numpy>=1.16.0 in /usr/local/lib/python3.10/dist-packages (from catboost) (1.22.4)\n",
            "Requirement already satisfied: pandas>=0.24 in /usr/local/lib/python3.10/dist-packages (from catboost) (1.5.3)\n",
            "Requirement already satisfied: scipy in /usr/local/lib/python3.10/dist-packages (from catboost) (1.10.1)\n",
            "Requirement already satisfied: plotly in /usr/local/lib/python3.10/dist-packages (from catboost) (5.13.1)\n",
            "Requirement already satisfied: six in /usr/local/lib/python3.10/dist-packages (from catboost) (1.16.0)\n",
            "Requirement already satisfied: python-dateutil>=2.8.1 in /usr/local/lib/python3.10/dist-packages (from pandas>=0.24->catboost) (2.8.2)\n",
            "Requirement already satisfied: pytz>=2020.1 in /usr/local/lib/python3.10/dist-packages (from pandas>=0.24->catboost) (2022.7.1)\n",
            "Requirement already satisfied: contourpy>=1.0.1 in /usr/local/lib/python3.10/dist-packages (from matplotlib->catboost) (1.1.0)\n",
            "Requirement already satisfied: cycler>=0.10 in /usr/local/lib/python3.10/dist-packages (from matplotlib->catboost) (0.11.0)\n",
            "Requirement already satisfied: fonttools>=4.22.0 in /usr/local/lib/python3.10/dist-packages (from matplotlib->catboost) (4.40.0)\n",
            "Requirement already satisfied: kiwisolver>=1.0.1 in /usr/local/lib/python3.10/dist-packages (from matplotlib->catboost) (1.4.4)\n",
            "Requirement already satisfied: packaging>=20.0 in /usr/local/lib/python3.10/dist-packages (from matplotlib->catboost) (23.1)\n",
            "Requirement already satisfied: pillow>=6.2.0 in /usr/local/lib/python3.10/dist-packages (from matplotlib->catboost) (8.4.0)\n",
            "Requirement already satisfied: pyparsing>=2.3.1 in /usr/local/lib/python3.10/dist-packages (from matplotlib->catboost) (3.1.0)\n",
            "Requirement already satisfied: tenacity>=6.2.0 in /usr/local/lib/python3.10/dist-packages (from plotly->catboost) (8.2.2)\n",
            "Installing collected packages: catboost\n",
            "Successfully installed catboost-1.2\n",
            "Collecting optuna\n",
            "  Downloading optuna-3.2.0-py3-none-any.whl (390 kB)\n",
            "\u001b[2K     \u001b[90m━━━━━━━━━━━━━━━━━━━━━━━━━━━━━━━━━━━━━━\u001b[0m \u001b[32m390.6/390.6 kB\u001b[0m \u001b[31m16.8 MB/s\u001b[0m eta \u001b[36m0:00:00\u001b[0m\n",
            "\u001b[?25hCollecting alembic>=1.5.0 (from optuna)\n",
            "  Downloading alembic-1.11.1-py3-none-any.whl (224 kB)\n",
            "\u001b[2K     \u001b[90m━━━━━━━━━━━━━━━━━━━━━━━━━━━━━━━━━━━━━━\u001b[0m \u001b[32m224.5/224.5 kB\u001b[0m \u001b[31m23.1 MB/s\u001b[0m eta \u001b[36m0:00:00\u001b[0m\n",
            "\u001b[?25hCollecting cmaes>=0.9.1 (from optuna)\n",
            "  Downloading cmaes-0.9.1-py3-none-any.whl (21 kB)\n",
            "Collecting colorlog (from optuna)\n",
            "  Downloading colorlog-6.7.0-py2.py3-none-any.whl (11 kB)\n",
            "Requirement already satisfied: numpy in /usr/local/lib/python3.10/dist-packages (from optuna) (1.22.4)\n",
            "Requirement already satisfied: packaging>=20.0 in /usr/local/lib/python3.10/dist-packages (from optuna) (23.1)\n",
            "Requirement already satisfied: sqlalchemy>=1.3.0 in /usr/local/lib/python3.10/dist-packages (from optuna) (2.0.16)\n",
            "Requirement already satisfied: tqdm in /usr/local/lib/python3.10/dist-packages (from optuna) (4.65.0)\n",
            "Requirement already satisfied: PyYAML in /usr/local/lib/python3.10/dist-packages (from optuna) (6.0)\n",
            "Collecting Mako (from alembic>=1.5.0->optuna)\n",
            "  Downloading Mako-1.2.4-py3-none-any.whl (78 kB)\n",
            "\u001b[2K     \u001b[90m━━━━━━━━━━━━━━━━━━━━━━━━━━━━━━━━━━━━━━━━\u001b[0m \u001b[32m78.7/78.7 kB\u001b[0m \u001b[31m12.1 MB/s\u001b[0m eta \u001b[36m0:00:00\u001b[0m\n",
            "\u001b[?25hRequirement already satisfied: typing-extensions>=4 in /usr/local/lib/python3.10/dist-packages (from alembic>=1.5.0->optuna) (4.6.3)\n",
            "Requirement already satisfied: greenlet!=0.4.17 in /usr/local/lib/python3.10/dist-packages (from sqlalchemy>=1.3.0->optuna) (2.0.2)\n",
            "Requirement already satisfied: MarkupSafe>=0.9.2 in /usr/local/lib/python3.10/dist-packages (from Mako->alembic>=1.5.0->optuna) (2.1.3)\n",
            "Installing collected packages: Mako, colorlog, cmaes, alembic, optuna\n",
            "Successfully installed Mako-1.2.4 alembic-1.11.1 cmaes-0.9.1 colorlog-6.7.0 optuna-3.2.0\n"
          ]
        }
      ],
      "source": [
        "!pip install catboost\n",
        "!pip install optuna"
      ]
    },
    {
      "cell_type": "code",
      "source": [
        "import pandas as pd\n",
        "import numpy as np\n",
        "from __future__ import division\n",
        "import matplotlib.pyplot as plt\n",
        "import copy\n",
        "import os\n",
        "import pickle\n",
        "import datetime\n",
        "import glob\n",
        "import joblib\n",
        "import optuna\n",
        "from zipfile import ZipFile\n",
        "from datetime import datetime\n",
        "import urllib.request\n",
        "from optuna.integration import LightGBMPruningCallback\n",
        "from math import sqrt\n",
        "from sklearn.metrics import accuracy_score\n",
        "from sklearn.metrics import log_loss\n",
        "from scipy.stats import entropy\n",
        "from sklearn.model_selection import train_test_split\n",
        "from sklearn.metrics import r2_score\n",
        "from sklearn.metrics import mean_squared_error\n",
        "from sklearn.metrics import mean_squared_log_error\n",
        "from sklearn.model_selection import StratifiedKFold\n",
        "from sklearn.model_selection import GridSearchCV,cross_val_score,KFold\n",
        "from sklearn.utils import shuffle\n",
        "from sklearn.preprocessing import LabelEncoder\n",
        "from catboost import CatBoostClassifier, Pool, metrics, cv,CatBoostRegressor\n",
        "#import category_encoders as ce\n",
        "import scipy as sp\n",
        "import lightgbm as lgbm\n",
        "import xgboost as xgb"
      ],
      "metadata": {
        "id": "CYXRWCSzttFs"
      },
      "execution_count": 2,
      "outputs": []
    },
    {
      "cell_type": "code",
      "source": [
        "from google.colab import drive\n",
        "drive.mount('/drive', force_remount=True)"
      ],
      "metadata": {
        "colab": {
          "base_uri": "https://localhost:8080/"
        },
        "id": "MLT_DgMVv9wb",
        "outputId": "e20cb9cd-dadf-4bc2-aacf-8a30f5cf96a4"
      },
      "execution_count": 3,
      "outputs": [
        {
          "output_type": "stream",
          "name": "stdout",
          "text": [
            "Mounted at /drive\n"
          ]
        }
      ]
    },
    {
      "cell_type": "code",
      "source": [
        "base_path_train = '/drive/My Drive/recsys23/train'\n",
        "base_path_test = '/drive/My Drive/recsys23/test'\n",
        "base_path_trainfiles = '/drive/My Drive/recsys23/train_files'\n",
        "base_path_preds = '/drive/My Drive/recsys23/preds'"
      ],
      "metadata": {
        "id": "rDSTKx-iwTmj"
      },
      "execution_count": 4,
      "outputs": []
    },
    {
      "cell_type": "code",
      "source": [
        "# Get a list of all CSV files in the folder\n",
        "csv_files = [f for f in os.listdir(base_path_train) if f.endswith('.csv')]\n",
        "\n",
        "# Create an empty DataFrame to store the combined data\n",
        "combined_df = pd.DataFrame()\n",
        "\n",
        "# Loop through each CSV file and append its data to the combined DataFrame\n",
        "for csv_file in csv_files:\n",
        "    file_path = os.path.join(base_path_train, csv_file)\n",
        "    df = pd.read_csv(file_path,sep = '\\t')\n",
        "    combined_df = combined_df.append(df, ignore_index=True)\n",
        "\n",
        "# Print the combined DataFrame\n",
        "print(combined_df.head())"
      ],
      "metadata": {
        "colab": {
          "base_uri": "https://localhost:8080/"
        },
        "id": "sweumjNRwWTN",
        "outputId": "7d120e24-7239-4246-eb0f-c4d16f135bb7"
      },
      "execution_count": 5,
      "outputs": [
        {
          "output_type": "stream",
          "name": "stderr",
          "text": [
            "<ipython-input-5-c571df68d2b8>:11: FutureWarning: The frame.append method is deprecated and will be removed from pandas in a future version. Use pandas.concat instead.\n",
            "  combined_df = combined_df.append(df, ignore_index=True)\n",
            "<ipython-input-5-c571df68d2b8>:11: FutureWarning: The frame.append method is deprecated and will be removed from pandas in a future version. Use pandas.concat instead.\n",
            "  combined_df = combined_df.append(df, ignore_index=True)\n",
            "<ipython-input-5-c571df68d2b8>:11: FutureWarning: The frame.append method is deprecated and will be removed from pandas in a future version. Use pandas.concat instead.\n",
            "  combined_df = combined_df.append(df, ignore_index=True)\n",
            "<ipython-input-5-c571df68d2b8>:11: FutureWarning: The frame.append method is deprecated and will be removed from pandas in a future version. Use pandas.concat instead.\n",
            "  combined_df = combined_df.append(df, ignore_index=True)\n",
            "<ipython-input-5-c571df68d2b8>:11: FutureWarning: The frame.append method is deprecated and will be removed from pandas in a future version. Use pandas.concat instead.\n",
            "  combined_df = combined_df.append(df, ignore_index=True)\n",
            "<ipython-input-5-c571df68d2b8>:11: FutureWarning: The frame.append method is deprecated and will be removed from pandas in a future version. Use pandas.concat instead.\n",
            "  combined_df = combined_df.append(df, ignore_index=True)\n",
            "<ipython-input-5-c571df68d2b8>:11: FutureWarning: The frame.append method is deprecated and will be removed from pandas in a future version. Use pandas.concat instead.\n",
            "  combined_df = combined_df.append(df, ignore_index=True)\n",
            "<ipython-input-5-c571df68d2b8>:11: FutureWarning: The frame.append method is deprecated and will be removed from pandas in a future version. Use pandas.concat instead.\n",
            "  combined_df = combined_df.append(df, ignore_index=True)\n",
            "<ipython-input-5-c571df68d2b8>:11: FutureWarning: The frame.append method is deprecated and will be removed from pandas in a future version. Use pandas.concat instead.\n",
            "  combined_df = combined_df.append(df, ignore_index=True)\n",
            "<ipython-input-5-c571df68d2b8>:11: FutureWarning: The frame.append method is deprecated and will be removed from pandas in a future version. Use pandas.concat instead.\n",
            "  combined_df = combined_df.append(df, ignore_index=True)\n",
            "<ipython-input-5-c571df68d2b8>:11: FutureWarning: The frame.append method is deprecated and will be removed from pandas in a future version. Use pandas.concat instead.\n",
            "  combined_df = combined_df.append(df, ignore_index=True)\n",
            "<ipython-input-5-c571df68d2b8>:11: FutureWarning: The frame.append method is deprecated and will be removed from pandas in a future version. Use pandas.concat instead.\n",
            "  combined_df = combined_df.append(df, ignore_index=True)\n",
            "<ipython-input-5-c571df68d2b8>:11: FutureWarning: The frame.append method is deprecated and will be removed from pandas in a future version. Use pandas.concat instead.\n",
            "  combined_df = combined_df.append(df, ignore_index=True)\n",
            "<ipython-input-5-c571df68d2b8>:11: FutureWarning: The frame.append method is deprecated and will be removed from pandas in a future version. Use pandas.concat instead.\n",
            "  combined_df = combined_df.append(df, ignore_index=True)\n",
            "<ipython-input-5-c571df68d2b8>:11: FutureWarning: The frame.append method is deprecated and will be removed from pandas in a future version. Use pandas.concat instead.\n",
            "  combined_df = combined_df.append(df, ignore_index=True)\n",
            "<ipython-input-5-c571df68d2b8>:11: FutureWarning: The frame.append method is deprecated and will be removed from pandas in a future version. Use pandas.concat instead.\n",
            "  combined_df = combined_df.append(df, ignore_index=True)\n",
            "<ipython-input-5-c571df68d2b8>:11: FutureWarning: The frame.append method is deprecated and will be removed from pandas in a future version. Use pandas.concat instead.\n",
            "  combined_df = combined_df.append(df, ignore_index=True)\n",
            "<ipython-input-5-c571df68d2b8>:11: FutureWarning: The frame.append method is deprecated and will be removed from pandas in a future version. Use pandas.concat instead.\n",
            "  combined_df = combined_df.append(df, ignore_index=True)\n",
            "<ipython-input-5-c571df68d2b8>:11: FutureWarning: The frame.append method is deprecated and will be removed from pandas in a future version. Use pandas.concat instead.\n",
            "  combined_df = combined_df.append(df, ignore_index=True)\n",
            "<ipython-input-5-c571df68d2b8>:11: FutureWarning: The frame.append method is deprecated and will be removed from pandas in a future version. Use pandas.concat instead.\n",
            "  combined_df = combined_df.append(df, ignore_index=True)\n",
            "<ipython-input-5-c571df68d2b8>:11: FutureWarning: The frame.append method is deprecated and will be removed from pandas in a future version. Use pandas.concat instead.\n",
            "  combined_df = combined_df.append(df, ignore_index=True)\n",
            "<ipython-input-5-c571df68d2b8>:11: FutureWarning: The frame.append method is deprecated and will be removed from pandas in a future version. Use pandas.concat instead.\n",
            "  combined_df = combined_df.append(df, ignore_index=True)\n",
            "<ipython-input-5-c571df68d2b8>:11: FutureWarning: The frame.append method is deprecated and will be removed from pandas in a future version. Use pandas.concat instead.\n",
            "  combined_df = combined_df.append(df, ignore_index=True)\n",
            "<ipython-input-5-c571df68d2b8>:11: FutureWarning: The frame.append method is deprecated and will be removed from pandas in a future version. Use pandas.concat instead.\n",
            "  combined_df = combined_df.append(df, ignore_index=True)\n",
            "<ipython-input-5-c571df68d2b8>:11: FutureWarning: The frame.append method is deprecated and will be removed from pandas in a future version. Use pandas.concat instead.\n",
            "  combined_df = combined_df.append(df, ignore_index=True)\n",
            "<ipython-input-5-c571df68d2b8>:11: FutureWarning: The frame.append method is deprecated and will be removed from pandas in a future version. Use pandas.concat instead.\n",
            "  combined_df = combined_df.append(df, ignore_index=True)\n",
            "<ipython-input-5-c571df68d2b8>:11: FutureWarning: The frame.append method is deprecated and will be removed from pandas in a future version. Use pandas.concat instead.\n",
            "  combined_df = combined_df.append(df, ignore_index=True)\n",
            "<ipython-input-5-c571df68d2b8>:11: FutureWarning: The frame.append method is deprecated and will be removed from pandas in a future version. Use pandas.concat instead.\n",
            "  combined_df = combined_df.append(df, ignore_index=True)\n",
            "<ipython-input-5-c571df68d2b8>:11: FutureWarning: The frame.append method is deprecated and will be removed from pandas in a future version. Use pandas.concat instead.\n",
            "  combined_df = combined_df.append(df, ignore_index=True)\n",
            "<ipython-input-5-c571df68d2b8>:11: FutureWarning: The frame.append method is deprecated and will be removed from pandas in a future version. Use pandas.concat instead.\n",
            "  combined_df = combined_df.append(df, ignore_index=True)\n"
          ]
        },
        {
          "output_type": "stream",
          "name": "stdout",
          "text": [
            "       f_0  f_1    f_2    f_3    f_4    f_5    f_6    f_7    f_8    f_9  ...  \\\n",
            "0  2541207   50  20095    563  31686  15908    590  27941  21218  21533  ...   \n",
            "1  2541533   53  17769  22294   5503  25604  28739  27941  21218  14659  ...   \n",
            "2  2541992   66  26325   7779  21563  15908    328  27941  21218  14659  ...   \n",
            "3  2542108   46  14963  22294  26466  25604  12305  27941  21218   9638  ...   \n",
            "4  2542137   51  17758  22294   4870  25604  11727  27941  21218  31372  ...   \n",
            "\n",
            "       f_72  f_73      f_74      f_75      f_76  f_77       f_78  f_79  \\\n",
            "0  0.000000   0.0  0.077128  1.156922  0.269948   0.0   0.000000   0.0   \n",
            "1  0.571121   0.0  0.038564  1.156922  0.269948   0.0   0.000000   0.0   \n",
            "2  0.000000   0.0  0.000000  0.077128  0.000000   0.0   0.000000   0.0   \n",
            "3  0.000000   0.0  0.115692  1.156922  0.269948   0.0   0.000000   0.0   \n",
            "4  1.142243   0.0  0.115692  1.156922  0.269948   0.0  37.384575   0.0   \n",
            "\n",
            "   is_clicked  is_installed  \n",
            "0           0             0  \n",
            "1           0             1  \n",
            "2           1             0  \n",
            "3           0             0  \n",
            "4           0             0  \n",
            "\n",
            "[5 rows x 82 columns]\n"
          ]
        }
      ]
    },
    {
      "cell_type": "code",
      "source": [
        "y_click = combined_df[['is_clicked']]\n",
        "y_install = combined_df[['is_installed']]\n",
        "full_train = combined_df.drop(['is_clicked','is_installed','f_0','f_1'],axis=1)"
      ],
      "metadata": {
        "id": "crnXZH68-gbm"
      },
      "execution_count": 6,
      "outputs": []
    },
    {
      "cell_type": "code",
      "source": [
        "full_train_cat = full_train.copy()\n",
        "full_train_cat['f_30'] = full_train_cat['f_30'].fillna(-1).astype(int).replace(-1, 'Null')\n",
        "full_train_cat['f_31'] = full_train_cat['f_31'].fillna(-1).astype(int).replace(-1, 'Null')"
      ],
      "metadata": {
        "id": "VLoXsMXiA1nV"
      },
      "execution_count": 7,
      "outputs": []
    },
    {
      "cell_type": "code",
      "source": [
        "GPU_ENABLED = True\n",
        "cat_cols = []\n",
        "for i in range(2,33):\n",
        "  cat_cols.append(\"f_{0}\".format(str(i)))"
      ],
      "metadata": {
        "id": "D6km2nlvwbNc"
      },
      "execution_count": 8,
      "outputs": []
    },
    {
      "cell_type": "code",
      "source": [
        "# cat install params\n",
        "best_param_cat_fix_cv = {'learning_rate': 0.06314591534089734, 'reg_lambda': 73.0979976315868, 'subsample': 0.5918440238472964,\n",
        "                         'random_strength': 26.555921799287248, 'depth': 8, 'min_data_in_leaf': 9, 'leaf_estimation_iterations': 4,'iterations':55}"
      ],
      "metadata": {
        "id": "Ate5jKgFxMi4"
      },
      "execution_count": 9,
      "outputs": []
    },
    {
      "cell_type": "code",
      "source": [
        "best_param_lgbm_fix_install = {'scale_pos_weight': 1, 'reg_alpha': 0.11958415677338752, 'reg_lambda': 2.222708594529026, 'colsample_bytree': 0.3,\n",
        "                               'subsample': 0.6, 'learning_rate': 0.008, 'max_depth': 70, 'num_leaves': 845, 'min_child_samples': 12,\n",
        "                               'min_data_per_groups': 52,'eval_metric': 'logloss','objective' : 'binary','random_state': 48,'n_estimators': 3000}"
      ],
      "metadata": {
        "id": "Wu8Uqpj9-Ip1"
      },
      "execution_count": 10,
      "outputs": []
    },
    {
      "cell_type": "code",
      "source": [
        "model_best_lgbm_inst = lgbm.LGBMClassifier(**best_param_lgbm_fix_install)\n",
        "model_best_lgbm_inst.fit(full_train,y_install,verbose=False,categorical_feature=cat_cols)"
      ],
      "metadata": {
        "id": "Z17mjJ0j-Lot"
      },
      "execution_count": null,
      "outputs": []
    },
    {
      "cell_type": "code",
      "source": [
        "cat_model_inst = CatBoostClassifier(\n",
        "        loss_function=\"Logloss\",\n",
        "        eval_metric = 'Logloss',\n",
        "        random_state=42,\n",
        "        **best_param_cat_fix_cv,\n",
        "    )"
      ],
      "metadata": {
        "id": "p-mCYk8mxhXN"
      },
      "execution_count": 11,
      "outputs": []
    },
    {
      "cell_type": "code",
      "source": [
        "cat_model_inst.fit(full_train_cat, y_install, cat_features=cat_cols)"
      ],
      "metadata": {
        "id": "wI6JpmIGNL5U"
      },
      "execution_count": null,
      "outputs": []
    },
    {
      "cell_type": "code",
      "source": [
        "best_param_lgbm_fix_click = {'scale_pos_weight': 1, 'reg_alpha': 0.46636269130289787, 'reg_lambda': 0.521102666434752,\n",
        " 'colsample_bytree': 0.3, 'subsample': 0.8, 'learning_rate': 0.004, 'max_depth': 8,\n",
        " 'num_leaves': 454, 'min_child_samples': 300, 'min_data_per_groups': 81,'n_estimators': 20000}"
      ],
      "metadata": {
        "id": "HT63ews67cZ9"
      },
      "execution_count": 17,
      "outputs": []
    },
    {
      "cell_type": "code",
      "source": [
        "# this is click params\n",
        "best_param_cat_fix_cv_val_click = {'learning_rate': 0.17484326779116222, 'reg_lambda': 0.6277515640834546,\n",
        " 'subsample': 0.6670431730949343, 'random_strength': 17.198749834468376,\n",
        " 'depth': 11, 'min_data_in_leaf': 20, 'leaf_estimation_iterations': 15,'iterations':12}"
      ],
      "metadata": {
        "id": "WPh1lm-JCOgS"
      },
      "execution_count": 18,
      "outputs": []
    },
    {
      "cell_type": "code",
      "source": [
        "model_best_lgbm_click = lgbm.LGBMClassifier(**best_param_lgbm_fix_click)\n",
        "model_best_lgbm_click.fit(full_train,y_click,verbose=False,categorical_feature=cat_cols)"
      ],
      "metadata": {
        "id": "6u_2l-ez7fjm"
      },
      "execution_count": null,
      "outputs": []
    },
    {
      "cell_type": "code",
      "source": [
        "cat_model_click = CatBoostClassifier(\n",
        "        loss_function=\"Logloss\",\n",
        "        eval_metric = 'Logloss',\n",
        "        random_state=42,\n",
        "        **best_param_cat_fix_cv_val_click,\n",
        "    )"
      ],
      "metadata": {
        "id": "NlfOT4K9ERF3"
      },
      "execution_count": 19,
      "outputs": []
    },
    {
      "cell_type": "code",
      "source": [
        "cat_model_click.fit(full_train_cat, y_click, cat_features=cat_cols)"
      ],
      "metadata": {
        "id": "D7M_r3YYNSOZ"
      },
      "execution_count": null,
      "outputs": []
    },
    {
      "cell_type": "markdown",
      "source": [
        "Test Set"
      ],
      "metadata": {
        "id": "RNg4YoX27mN4"
      }
    },
    {
      "cell_type": "code",
      "source": [
        "# Get a list of all CSV files in the folder\n",
        "csv_files_test = [f for f in os.listdir(base_path_test) if f.endswith('.csv')]\n",
        "\n",
        "# Create an empty DataFrame to store the combined data\n",
        "combined_df_test = pd.DataFrame()\n",
        "\n",
        "# Loop through each CSV file and append its data to the combined DataFrame\n",
        "for csv_file in csv_files_test:\n",
        "    file_path = os.path.join(base_path_test, csv_file)\n",
        "    df = pd.read_csv(file_path,sep = '\\t')\n",
        "    combined_df_test = combined_df_test.append(df, ignore_index=True)\n",
        "\n",
        "# Print the combined DataFrame\n",
        "print(combined_df_test.head())"
      ],
      "metadata": {
        "colab": {
          "base_uri": "https://localhost:8080/"
        },
        "id": "dxOg97jG7lm6",
        "outputId": "f7f2dcdb-bcd7-4347-8dd3-5e5976a322e2"
      },
      "execution_count": 21,
      "outputs": [
        {
          "output_type": "stream",
          "name": "stdout",
          "text": [
            "     f_0  f_1    f_2    f_3    f_4    f_5    f_6    f_7    f_8    f_9  ...  \\\n",
            "0  64505   67  26325   7152  21563  19475  31440  27941  21621  14659  ...   \n",
            "1  64506   67  20095    563  22861  19475  21280  27941  19203  14659  ...   \n",
            "2  64507   67    890  22294  18294  21545  20210  27941  18800   9638  ...   \n",
            "3  64508   67  20095    563  22861  25604  21280  27941  18800  14659  ...   \n",
            "4  64509   67  27426  22294  11338  19475  23855  27941  21218   9638  ...   \n",
            "\n",
            "       f_70  f_71      f_72  f_73      f_74      f_75      f_76  f_77  f_78  \\\n",
            "0  1.519085   0.0  0.000000   0.0  0.000000  0.000000  0.000000   0.0   0.0   \n",
            "1  0.000000   0.0  0.000000   0.0  0.115692  1.156922  0.269948   0.0   0.0   \n",
            "2  0.982995   0.0  0.000000   0.0  0.000000  1.156922  0.269948   0.0   0.0   \n",
            "3  0.000000   0.0  2.284486   0.0  0.000000  1.156922  0.269948   0.0   0.0   \n",
            "4  0.986040   0.0  0.000000   0.0  0.077128  0.077128  0.077128   0.0   0.0   \n",
            "\n",
            "   f_79  \n",
            "0   0.0  \n",
            "1   0.0  \n",
            "2   0.0  \n",
            "3   0.0  \n",
            "4   0.0  \n",
            "\n",
            "[5 rows x 80 columns]\n"
          ]
        },
        {
          "output_type": "stream",
          "name": "stderr",
          "text": [
            "<ipython-input-21-02c38ca86c48>:11: FutureWarning: The frame.append method is deprecated and will be removed from pandas in a future version. Use pandas.concat instead.\n",
            "  combined_df_test = combined_df_test.append(df, ignore_index=True)\n"
          ]
        }
      ]
    },
    {
      "cell_type": "code",
      "source": [
        "combined_df_test = combined_df_test.drop(['f_0','f_1'],axis=1)"
      ],
      "metadata": {
        "id": "nddg_8r_7th5"
      },
      "execution_count": 22,
      "outputs": []
    },
    {
      "cell_type": "code",
      "source": [
        "combined_df_test.head()"
      ],
      "metadata": {
        "colab": {
          "base_uri": "https://localhost:8080/",
          "height": 236
        },
        "id": "CztioVBFNVnw",
        "outputId": "0f545b48-fb90-46ba-d124-19701845f9bb"
      },
      "execution_count": 23,
      "outputs": [
        {
          "output_type": "execute_result",
          "data": {
            "text/plain": [
              "     f_2    f_3    f_4    f_5    f_6    f_7    f_8    f_9   f_10   f_11  ...  \\\n",
              "0  26325   7152  21563  19475  31440  27941  21621  14659  21574  31460  ...   \n",
              "1  20095    563  22861  19475  21280  27941  19203  14659  21574  27957  ...   \n",
              "2    890  22294  18294  21545  20210  27941  18800   9638  19343  30375  ...   \n",
              "3  20095    563  22861  25604  21280  27941  18800  14659  22970  31863  ...   \n",
              "4  27426  22294  11338  19475  23855  27941  21218   9638  21574  30778  ...   \n",
              "\n",
              "       f_70  f_71      f_72  f_73      f_74      f_75      f_76  f_77  f_78  \\\n",
              "0  1.519085   0.0  0.000000   0.0  0.000000  0.000000  0.000000   0.0   0.0   \n",
              "1  0.000000   0.0  0.000000   0.0  0.115692  1.156922  0.269948   0.0   0.0   \n",
              "2  0.982995   0.0  0.000000   0.0  0.000000  1.156922  0.269948   0.0   0.0   \n",
              "3  0.000000   0.0  2.284486   0.0  0.000000  1.156922  0.269948   0.0   0.0   \n",
              "4  0.986040   0.0  0.000000   0.0  0.077128  0.077128  0.077128   0.0   0.0   \n",
              "\n",
              "   f_79  \n",
              "0   0.0  \n",
              "1   0.0  \n",
              "2   0.0  \n",
              "3   0.0  \n",
              "4   0.0  \n",
              "\n",
              "[5 rows x 78 columns]"
            ],
            "text/html": [
              "\n",
              "  <div id=\"df-881229a8-8fb9-4b18-8f0c-c0d71ca8e7a2\">\n",
              "    <div class=\"colab-df-container\">\n",
              "      <div>\n",
              "<style scoped>\n",
              "    .dataframe tbody tr th:only-of-type {\n",
              "        vertical-align: middle;\n",
              "    }\n",
              "\n",
              "    .dataframe tbody tr th {\n",
              "        vertical-align: top;\n",
              "    }\n",
              "\n",
              "    .dataframe thead th {\n",
              "        text-align: right;\n",
              "    }\n",
              "</style>\n",
              "<table border=\"1\" class=\"dataframe\">\n",
              "  <thead>\n",
              "    <tr style=\"text-align: right;\">\n",
              "      <th></th>\n",
              "      <th>f_2</th>\n",
              "      <th>f_3</th>\n",
              "      <th>f_4</th>\n",
              "      <th>f_5</th>\n",
              "      <th>f_6</th>\n",
              "      <th>f_7</th>\n",
              "      <th>f_8</th>\n",
              "      <th>f_9</th>\n",
              "      <th>f_10</th>\n",
              "      <th>f_11</th>\n",
              "      <th>...</th>\n",
              "      <th>f_70</th>\n",
              "      <th>f_71</th>\n",
              "      <th>f_72</th>\n",
              "      <th>f_73</th>\n",
              "      <th>f_74</th>\n",
              "      <th>f_75</th>\n",
              "      <th>f_76</th>\n",
              "      <th>f_77</th>\n",
              "      <th>f_78</th>\n",
              "      <th>f_79</th>\n",
              "    </tr>\n",
              "  </thead>\n",
              "  <tbody>\n",
              "    <tr>\n",
              "      <th>0</th>\n",
              "      <td>26325</td>\n",
              "      <td>7152</td>\n",
              "      <td>21563</td>\n",
              "      <td>19475</td>\n",
              "      <td>31440</td>\n",
              "      <td>27941</td>\n",
              "      <td>21621</td>\n",
              "      <td>14659</td>\n",
              "      <td>21574</td>\n",
              "      <td>31460</td>\n",
              "      <td>...</td>\n",
              "      <td>1.519085</td>\n",
              "      <td>0.0</td>\n",
              "      <td>0.000000</td>\n",
              "      <td>0.0</td>\n",
              "      <td>0.000000</td>\n",
              "      <td>0.000000</td>\n",
              "      <td>0.000000</td>\n",
              "      <td>0.0</td>\n",
              "      <td>0.0</td>\n",
              "      <td>0.0</td>\n",
              "    </tr>\n",
              "    <tr>\n",
              "      <th>1</th>\n",
              "      <td>20095</td>\n",
              "      <td>563</td>\n",
              "      <td>22861</td>\n",
              "      <td>19475</td>\n",
              "      <td>21280</td>\n",
              "      <td>27941</td>\n",
              "      <td>19203</td>\n",
              "      <td>14659</td>\n",
              "      <td>21574</td>\n",
              "      <td>27957</td>\n",
              "      <td>...</td>\n",
              "      <td>0.000000</td>\n",
              "      <td>0.0</td>\n",
              "      <td>0.000000</td>\n",
              "      <td>0.0</td>\n",
              "      <td>0.115692</td>\n",
              "      <td>1.156922</td>\n",
              "      <td>0.269948</td>\n",
              "      <td>0.0</td>\n",
              "      <td>0.0</td>\n",
              "      <td>0.0</td>\n",
              "    </tr>\n",
              "    <tr>\n",
              "      <th>2</th>\n",
              "      <td>890</td>\n",
              "      <td>22294</td>\n",
              "      <td>18294</td>\n",
              "      <td>21545</td>\n",
              "      <td>20210</td>\n",
              "      <td>27941</td>\n",
              "      <td>18800</td>\n",
              "      <td>9638</td>\n",
              "      <td>19343</td>\n",
              "      <td>30375</td>\n",
              "      <td>...</td>\n",
              "      <td>0.982995</td>\n",
              "      <td>0.0</td>\n",
              "      <td>0.000000</td>\n",
              "      <td>0.0</td>\n",
              "      <td>0.000000</td>\n",
              "      <td>1.156922</td>\n",
              "      <td>0.269948</td>\n",
              "      <td>0.0</td>\n",
              "      <td>0.0</td>\n",
              "      <td>0.0</td>\n",
              "    </tr>\n",
              "    <tr>\n",
              "      <th>3</th>\n",
              "      <td>20095</td>\n",
              "      <td>563</td>\n",
              "      <td>22861</td>\n",
              "      <td>25604</td>\n",
              "      <td>21280</td>\n",
              "      <td>27941</td>\n",
              "      <td>18800</td>\n",
              "      <td>14659</td>\n",
              "      <td>22970</td>\n",
              "      <td>31863</td>\n",
              "      <td>...</td>\n",
              "      <td>0.000000</td>\n",
              "      <td>0.0</td>\n",
              "      <td>2.284486</td>\n",
              "      <td>0.0</td>\n",
              "      <td>0.000000</td>\n",
              "      <td>1.156922</td>\n",
              "      <td>0.269948</td>\n",
              "      <td>0.0</td>\n",
              "      <td>0.0</td>\n",
              "      <td>0.0</td>\n",
              "    </tr>\n",
              "    <tr>\n",
              "      <th>4</th>\n",
              "      <td>27426</td>\n",
              "      <td>22294</td>\n",
              "      <td>11338</td>\n",
              "      <td>19475</td>\n",
              "      <td>23855</td>\n",
              "      <td>27941</td>\n",
              "      <td>21218</td>\n",
              "      <td>9638</td>\n",
              "      <td>21574</td>\n",
              "      <td>30778</td>\n",
              "      <td>...</td>\n",
              "      <td>0.986040</td>\n",
              "      <td>0.0</td>\n",
              "      <td>0.000000</td>\n",
              "      <td>0.0</td>\n",
              "      <td>0.077128</td>\n",
              "      <td>0.077128</td>\n",
              "      <td>0.077128</td>\n",
              "      <td>0.0</td>\n",
              "      <td>0.0</td>\n",
              "      <td>0.0</td>\n",
              "    </tr>\n",
              "  </tbody>\n",
              "</table>\n",
              "<p>5 rows × 78 columns</p>\n",
              "</div>\n",
              "      <button class=\"colab-df-convert\" onclick=\"convertToInteractive('df-881229a8-8fb9-4b18-8f0c-c0d71ca8e7a2')\"\n",
              "              title=\"Convert this dataframe to an interactive table.\"\n",
              "              style=\"display:none;\">\n",
              "        \n",
              "  <svg xmlns=\"http://www.w3.org/2000/svg\" height=\"24px\"viewBox=\"0 0 24 24\"\n",
              "       width=\"24px\">\n",
              "    <path d=\"M0 0h24v24H0V0z\" fill=\"none\"/>\n",
              "    <path d=\"M18.56 5.44l.94 2.06.94-2.06 2.06-.94-2.06-.94-.94-2.06-.94 2.06-2.06.94zm-11 1L8.5 8.5l.94-2.06 2.06-.94-2.06-.94L8.5 2.5l-.94 2.06-2.06.94zm10 10l.94 2.06.94-2.06 2.06-.94-2.06-.94-.94-2.06-.94 2.06-2.06.94z\"/><path d=\"M17.41 7.96l-1.37-1.37c-.4-.4-.92-.59-1.43-.59-.52 0-1.04.2-1.43.59L10.3 9.45l-7.72 7.72c-.78.78-.78 2.05 0 2.83L4 21.41c.39.39.9.59 1.41.59.51 0 1.02-.2 1.41-.59l7.78-7.78 2.81-2.81c.8-.78.8-2.07 0-2.86zM5.41 20L4 18.59l7.72-7.72 1.47 1.35L5.41 20z\"/>\n",
              "  </svg>\n",
              "      </button>\n",
              "      \n",
              "  <style>\n",
              "    .colab-df-container {\n",
              "      display:flex;\n",
              "      flex-wrap:wrap;\n",
              "      gap: 12px;\n",
              "    }\n",
              "\n",
              "    .colab-df-convert {\n",
              "      background-color: #E8F0FE;\n",
              "      border: none;\n",
              "      border-radius: 50%;\n",
              "      cursor: pointer;\n",
              "      display: none;\n",
              "      fill: #1967D2;\n",
              "      height: 32px;\n",
              "      padding: 0 0 0 0;\n",
              "      width: 32px;\n",
              "    }\n",
              "\n",
              "    .colab-df-convert:hover {\n",
              "      background-color: #E2EBFA;\n",
              "      box-shadow: 0px 1px 2px rgba(60, 64, 67, 0.3), 0px 1px 3px 1px rgba(60, 64, 67, 0.15);\n",
              "      fill: #174EA6;\n",
              "    }\n",
              "\n",
              "    [theme=dark] .colab-df-convert {\n",
              "      background-color: #3B4455;\n",
              "      fill: #D2E3FC;\n",
              "    }\n",
              "\n",
              "    [theme=dark] .colab-df-convert:hover {\n",
              "      background-color: #434B5C;\n",
              "      box-shadow: 0px 1px 3px 1px rgba(0, 0, 0, 0.15);\n",
              "      filter: drop-shadow(0px 1px 2px rgba(0, 0, 0, 0.3));\n",
              "      fill: #FFFFFF;\n",
              "    }\n",
              "  </style>\n",
              "\n",
              "      <script>\n",
              "        const buttonEl =\n",
              "          document.querySelector('#df-881229a8-8fb9-4b18-8f0c-c0d71ca8e7a2 button.colab-df-convert');\n",
              "        buttonEl.style.display =\n",
              "          google.colab.kernel.accessAllowed ? 'block' : 'none';\n",
              "\n",
              "        async function convertToInteractive(key) {\n",
              "          const element = document.querySelector('#df-881229a8-8fb9-4b18-8f0c-c0d71ca8e7a2');\n",
              "          const dataTable =\n",
              "            await google.colab.kernel.invokeFunction('convertToInteractive',\n",
              "                                                     [key], {});\n",
              "          if (!dataTable) return;\n",
              "\n",
              "          const docLinkHtml = 'Like what you see? Visit the ' +\n",
              "            '<a target=\"_blank\" href=https://colab.research.google.com/notebooks/data_table.ipynb>data table notebook</a>'\n",
              "            + ' to learn more about interactive tables.';\n",
              "          element.innerHTML = '';\n",
              "          dataTable['output_type'] = 'display_data';\n",
              "          await google.colab.output.renderOutput(dataTable, element);\n",
              "          const docLink = document.createElement('div');\n",
              "          docLink.innerHTML = docLinkHtml;\n",
              "          element.appendChild(docLink);\n",
              "        }\n",
              "      </script>\n",
              "    </div>\n",
              "  </div>\n",
              "  "
            ]
          },
          "metadata": {},
          "execution_count": 23
        }
      ]
    },
    {
      "cell_type": "code",
      "source": [
        "combined_df_test_cat = combined_df_test.copy()\n",
        "combined_df_test_cat['f_30'] = combined_df_test_cat['f_30'].fillna(-1).astype(int).replace(-1, 'Null')\n",
        "combined_df_test_cat['f_31'] = combined_df_test_cat['f_31'].fillna(-1).astype(int).replace(-1, 'Null')"
      ],
      "metadata": {
        "id": "i1Hs7R3N7uNg"
      },
      "execution_count": 24,
      "outputs": []
    },
    {
      "cell_type": "code",
      "source": [
        "test_prob = cat_model_inst.predict_proba(combined_df_test_cat)\n",
        "test_prob_pred_install_cat = pd.DataFrame()\n",
        "test_prob_pred_install_cat['is_installed'] = test_prob[:,1]\n",
        "test_prob_pred_install_cat.head()"
      ],
      "metadata": {
        "id": "9RrS2hb87wkf"
      },
      "execution_count": null,
      "outputs": []
    },
    {
      "cell_type": "code",
      "source": [
        "test_prob = model_best_lgbm_inst.predict_proba(combined_df_test)\n",
        "test_prob_pred_install_lgb = pd.DataFrame()\n",
        "test_prob_pred_install_lgb['is_installed'] = test_prob[:,1]\n",
        "test_prob_pred_install_lgb.head()"
      ],
      "metadata": {
        "id": "Vt_Lo1CX9f4r"
      },
      "execution_count": null,
      "outputs": []
    },
    {
      "cell_type": "code",
      "source": [
        "test_prob = cat_model_click.predict_proba(combined_df_test_cat)\n",
        "test_prob_pred_click_cat = pd.DataFrame()\n",
        "test_prob_pred_click_cat['is_clicked'] = test_prob[:,1]\n",
        "test_prob_pred_click_cat.head()"
      ],
      "metadata": {
        "id": "AggDpzvAJgt6"
      },
      "execution_count": null,
      "outputs": []
    },
    {
      "cell_type": "code",
      "source": [
        "test_prob = model_best_lgbm_click.predict_proba(combined_df_test)\n",
        "test_prob_pred_click_lgb = pd.DataFrame()\n",
        "test_prob_pred_click_lgb['is_clicked'] = test_prob[:,1]\n",
        "test_prob_pred_click_lgb.head()"
      ],
      "metadata": {
        "id": "R2oMhQaKJ7Kr"
      },
      "execution_count": null,
      "outputs": []
    },
    {
      "cell_type": "code",
      "source": [
        "sub_df = pd.DataFrame()\n",
        "sub_df['RowId'] = combined_df_test['f_0']\n",
        "sub_df['is_clicked_cat'] = test_prob_pred_click_cat['is_clicked']\n",
        "sub_df['is_clicked_lgb'] = test_prob_pred_click_lgb['is_clicked']\n",
        "sub_df['is_clicked'] = sub_df[['is_clicked_lgb', 'is_clicked_cat']].mean(axis=1)\n",
        "sub_df['is_installed_cat'] = test_prob_pred_install_cat['is_installed']\n",
        "sub_df['is_installed_lgb'] = test_prob_pred_install_lgb['is_installed']\n",
        "sub_df['is_installed'] = sub_df[['is_installed_lgb', 'is_installed_cat']].mean(axis=1)\n",
        "sub_df.drop(['is_clicked_lgb','is_clicked_cat','is_installed_cat','is_installed_lgb'],axis=1,inplace=True)\n",
        "sub_df.head()"
      ],
      "metadata": {
        "id": "82b6TvtoKsAm"
      },
      "execution_count": null,
      "outputs": []
    },
    {
      "cell_type": "code",
      "source": [
        "sub_df.to_csv(base_path_preds + '/sub.csv',sep='\\t',index=False)"
      ],
      "metadata": {
        "id": "rgMZuL9rN0T3"
      },
      "execution_count": null,
      "outputs": []
    }
  ]
}